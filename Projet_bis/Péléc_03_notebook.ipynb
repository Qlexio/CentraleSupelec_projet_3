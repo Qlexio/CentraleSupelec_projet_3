{
 "cells": [
  {
   "cell_type": "markdown",
   "metadata": {},
   "source": [
    "# Prise de connaissance des variables \"Comment\", \"ComplianceStatus\" pour éclaircir le dataset\n",
    "\n",
    "1. Comment\n",
    "2. ComplianceStatus\n"
   ]
  },
  {
   "cell_type": "code",
   "execution_count": 1,
   "metadata": {},
   "outputs": [
    {
     "name": "stdout",
     "output_type": "stream",
     "text": [
      "<class 'pandas.core.frame.DataFrame'>\n",
      "RangeIndex: 1642 entries, 0 to 1641\n",
      "Data columns (total 45 columns):\n",
      " #   Column                          Non-Null Count  Dtype  \n",
      "---  ------                          --------------  -----  \n",
      " 0   OSEBuildingID                   1642 non-null   int64  \n",
      " 1   DataYear                        1642 non-null   int64  \n",
      " 2   PrimaryPropertyType             1642 non-null   object \n",
      " 3   CouncilDistrictCode             1642 non-null   int64  \n",
      " 4   YearBuilt                       1642 non-null   int64  \n",
      " 5   NumberofBuildings               1642 non-null   float64\n",
      " 6   NumberofFloors                  1634 non-null   float64\n",
      " 7   PropertyGFATotal                1642 non-null   int64  \n",
      " 8   PropertyGFAParking              1642 non-null   int64  \n",
      " 9   PropertyGFABuilding(s)          1642 non-null   int64  \n",
      " 10  ENERGYSTARScore                 1111 non-null   float64\n",
      " 11  SiteEUI(kBtu/sf)                1635 non-null   float64\n",
      " 12  SiteEUIWN(kBtu/sf)              1635 non-null   float64\n",
      " 13  SourceEUI(kBtu/sf)              1635 non-null   float64\n",
      " 14  SourceEUIWN(kBtu/sf)            1635 non-null   float64\n",
      " 15  SiteEnergyUse(kBtu)             1635 non-null   float64\n",
      " 16  SiteEnergyUseWN(kBtu)           1635 non-null   float64\n",
      " 17  SteamUse(kBtu)                  1635 non-null   float64\n",
      " 18  Electricity(kWh)                1635 non-null   float64\n",
      " 19  Electricity(kBtu)               1635 non-null   float64\n",
      " 20  NaturalGas(therms)              1635 non-null   float64\n",
      " 21  NaturalGas(kBtu)                1635 non-null   float64\n",
      " 22  OtherFuelUse(kBtu)              1595 non-null   float64\n",
      " 23  DefaultData                     1641 non-null   object \n",
      " 24  Comment                         12 non-null     object \n",
      " 25  ComplianceStatus                1642 non-null   object \n",
      " 26  Outlier                         31 non-null     object \n",
      " 27  Latitude                        1642 non-null   float64\n",
      " 28  Longitude                       1642 non-null   float64\n",
      " 29  ZipCode                         1626 non-null   float64\n",
      " 30  TotalGHGEmissions               1635 non-null   float64\n",
      " 31  GHGEmissionsIntensity           1635 non-null   float64\n",
      " 32  SiteEUI(kBtu/sf)_diff1516       1582 non-null   float64\n",
      " 33  SiteEUIWN(kBtu/sf)_diff1516     1583 non-null   float64\n",
      " 34  SourceEUI(kBtu/sf)_diff1516     1583 non-null   float64\n",
      " 35  SourceEUIWN(kBtu/sf)_diff1516   1583 non-null   float64\n",
      " 36  SiteEnergyUse(kBtu)_diff1516    1584 non-null   float64\n",
      " 37  SiteEnergyUseWN(kBtu)_diff1516  1583 non-null   float64\n",
      " 38  SteamUse(kBtu)_diff1516         1583 non-null   float64\n",
      " 39  Electricity(kWh)_diff1516       1583 non-null   float64\n",
      " 40  Electricity(kBtu)_diff1516      1583 non-null   float64\n",
      " 41  NaturalGas(therms)_diff1516     1583 non-null   float64\n",
      " 42  NaturalGas(kBtu)_diff1516       1583 non-null   float64\n",
      " 43  TotalGHGEmissions_diff1516      1583 non-null   float64\n",
      " 44  GHGEmissionsIntensity_diff1516  1583 non-null   float64\n",
      "dtypes: float64(33), int64(7), object(5)\n",
      "memory usage: 577.4+ KB\n"
     ]
    }
   ],
   "source": [
    "import pandas as pd\n",
    "import numpy as np\n",
    "import matplotlib.pyplot as plt\n",
    "\n",
    "datas = pd.read_csv(\"Pélec_02_nettoyage_global.csv\")\n",
    "datas.info()\n"
   ]
  },
  {
   "cell_type": "markdown",
   "metadata": {},
   "source": [
    "# 1. Comment"
   ]
  },
  {
   "cell_type": "code",
   "execution_count": 2,
   "metadata": {},
   "outputs": [
    {
     "name": "stdout",
     "output_type": "stream",
     "text": [
      "Index: 61, Year: 2015\n",
      "Under construction starting 6/2013 (old building demolished) and ending 9/2016. New Building re-opened 9/2016. Year built changed from 1948 to 2016.\n",
      "Index: 427, Year: 2015\n",
      "Part of McKinstry's campus, property operates a fabrication and production shop and is conditioned by natural gas overhead radiant unit heaters with no cooling. Learn more at www.mckinstry.com.\n",
      "Index: 428, Year: 2015\n",
      "One of two office buildings on McKinstry's campus partially remodeled in 2009 from warehouse to office space. Served by rooftop air handling units with underfloor VAVs.  Self-performed energy efficiency upgrades in 2015 include a long-term LED lighting re\n",
      "Index: 579, Year: 2015\n",
      "Part of McKinstry’s campus, this remodeled warehouse is mainly office but includes a full-size basketball court and gym with locker rooms, bistro with a full kitchen, and data center. Served by rooftop package units for heating and cooling. Upgrades inclu\n",
      "Index: 655, Year: 2015\n",
      "Construction completed in mid 2015. The building was unoccupied for most of 2015.\n",
      "Index: 923, Year: 2015\n",
      "Under construction starting 6/2013 (old building demolished) and ending 9/2016. New Building re-opened 9/2016.  Year built changed from 1950 to 2016.\n",
      "Index: 924, Year: 2015\n",
      "Under construction starting 6/2013 (old building demolished) and ending 9/2016. New Building re-opened 9/2016. Year built changed from 1949 to 2016.\n",
      "Index: 931, Year: 2015\n",
      "Under construction starting 6/2015 (old building demolished) and ending 9/2017. New Building re-opens 9/2017. Year built changed from 1954 to 2017.\n",
      "Index: 1206, Year: 2015\n",
      "Under construction starting 09/2014 (old building demolished) and ending 9/2017. New Buildings (two) re-open 9/2017. Year built changed from 1953 to 2017.\n",
      "Index: 1273, Year: 2015\n",
      "Part of McKinstry's campus, the office space for this building sites on the 3rd floor above a 2-story parking garage and is served by rooftop package units for both heating and cooling. Learn more at www.mckinstryinnovationcenter.com.\n",
      "Index: 1310, Year: 2015\n",
      "Part of McKinstry's campus, property includes a warehouse, a local pipe supplier, and a local insulation contractor.  Learn more at www.mckinstry.com.\n",
      "Index: 1322, Year: 2015\n",
      "Property now has two buildings: Thornton Creek Elementary School and the Decatur Building. New Thornton Creek Elementary built on Decatur Property and under construction from 6/2013 - 9/2016.\n"
     ]
    }
   ],
   "source": [
    "commentaires = datas[datas[\"Comment\"].notna()][[\"DataYear\", \"Comment\"]]\n",
    "\n",
    "for i in commentaires.index:\n",
    "    print(f\"Index: {i}, Year: {commentaires.loc[i, 'DataYear']}\\n{commentaires.loc[i, 'Comment']}\")\n"
   ]
  },
  {
   "cell_type": "code",
   "execution_count": 3,
   "metadata": {},
   "outputs": [],
   "source": [
    "rm_Comm_idx = [61, 655, 923, 924, 931, 1206, 1322]"
   ]
  },
  {
   "cell_type": "markdown",
   "metadata": {},
   "source": [
    "# 2. ComplianceStatus"
   ]
  },
  {
   "cell_type": "code",
   "execution_count": 4,
   "metadata": {},
   "outputs": [
    {
     "data": {
      "text/plain": [
       "Compliant                       1639\n",
       "Error - Correct Default Data       3\n",
       "Name: ComplianceStatus, dtype: int64"
      ]
     },
     "execution_count": 4,
     "metadata": {},
     "output_type": "execute_result"
    }
   ],
   "source": [
    "datas[\"ComplianceStatus\"].value_counts()\n"
   ]
  },
  {
   "cell_type": "markdown",
   "metadata": {},
   "source": [
    "Je garde les valeurs conformes \"Compliant\". \"Error - Correct Default Data\" indique que les valeurs entrées sont les valeurs par défaut de Seattle donc potentiellement utilisables."
   ]
  },
  {
   "cell_type": "code",
   "execution_count": 5,
   "metadata": {},
   "outputs": [],
   "source": [
    "rm_Comp_idx = datas[(datas[\"ComplianceStatus\"] == \"Error - Correct Default Data\")]"
   ]
  },
  {
   "cell_type": "markdown",
   "metadata": {},
   "source": [
    "Retrait des indexes et des colonnes \"Comment\" et \"ComplianceStatus\" devenues inutiles"
   ]
  },
  {
   "cell_type": "code",
   "execution_count": 6,
   "metadata": {},
   "outputs": [],
   "source": [
    "rm_tt_idx = rm_Comm_idx + rm_Comp_idx.index.to_list()\n",
    "\n",
    "# Retrait des doublons\n",
    "set_idx = set(rm_tt_idx)\n",
    "rm_tt_idx = list(set_idx)\n",
    "\n",
    "datas = datas.drop(index=rm_tt_idx).reset_index(drop=True)\n",
    "datas = datas.drop(columns=[\"Comment\", \"ComplianceStatus\"])"
   ]
  },
  {
   "cell_type": "code",
   "execution_count": 7,
   "metadata": {},
   "outputs": [],
   "source": [
    "datas.to_csv(\"Pélec_04_notebook.csv\", index=False)"
   ]
  },
  {
   "cell_type": "markdown",
   "metadata": {},
   "source": [
    "# Analyse des variables \"SiteEnergyUse(kBtu)\" et \"TotalGHGEmissions\""
   ]
  },
  {
   "cell_type": "code",
   "execution_count": 8,
   "metadata": {},
   "outputs": [
    {
     "name": "stdout",
     "output_type": "stream",
     "text": [
      "Nombre de classes: 12\n"
     ]
    }
   ],
   "source": [
    "nb_classes = round(1 + np.log2(len(datas)))\n",
    "print(f\"Nombre de classes: {nb_classes}\")\n"
   ]
  },
  {
   "cell_type": "markdown",
   "metadata": {},
   "source": [
    "Je double le nombre de classe pour une analyse plus fine\n",
    "\n",
    "## \"SiteEnergyUse(kBtu)\""
   ]
  },
  {
   "cell_type": "code",
   "execution_count": 9,
   "metadata": {},
   "outputs": [
    {
     "data": {
      "text/plain": [
       "<AxesSubplot:>"
      ]
     },
     "execution_count": 9,
     "metadata": {},
     "output_type": "execute_result"
    },
    {
     "data": {
      "image/png": "[encoded data removed]",
      "text/plain": [
       "<Figure size 432x288 with 1 Axes>"
      ]
     },
     "metadata": {
      "needs_background": "light"
     },
     "output_type": "display_data"
    }
   ],
   "source": [
    "datas[\"SiteEnergyUse(kBtu)\"].hist(bins=nb_classes * 2)\n"
   ]
  },
  {
   "cell_type": "code",
   "execution_count": 10,
   "metadata": {},
   "outputs": [
    {
     "name": "stdout",
     "output_type": "stream",
     "text": [
      "Skewness: 17.73772610773084\n",
      "Kurtosis: 431.2765888293235\n"
     ]
    }
   ],
   "source": [
    "print(f\"Skewness: {datas['SiteEnergyUse(kBtu)'].skew()}\")\n",
    "print(f\"Kurtosis: {datas['SiteEnergyUse(kBtu)'].kurtosis()}\")"
   ]
  },
  {
   "cell_type": "markdown",
   "metadata": {},
   "source": [
    "Le skewness est supérieur à 0 donc la distribution de \"SiteEnergyUse(kBtu)\" est étalée à droite\n",
    "\n",
    "Le kurtosis est supérieur à 0 donc la distribution de \"SiteEnergyUse(kBtu)\" est très concentrée\n",
    "\n",
    "Je vais refaire les analyses après une normalisation de \"SiteEnergyUse(kBtu)\" par le log et comparer les résultats\n"
   ]
  },
  {
   "cell_type": "code",
   "execution_count": 11,
   "metadata": {},
   "outputs": [
    {
     "name": "stdout",
     "output_type": "stream",
     "text": [
      "Skewness: -1.1230031095285251\n",
      "Kurtosis: 13.884343530544085\n"
     ]
    },
    {
     "data": {
      "text/plain": [
       "<AxesSubplot:>"
      ]
     },
     "execution_count": 11,
     "metadata": {},
     "output_type": "execute_result"
    },
    {
     "data": {
      "image/png": "[encoded data removed]",
      "text/plain": [
       "<Figure size 432x288 with 1 Axes>"
      ]
     },
     "metadata": {
      "needs_background": "light"
     },
     "output_type": "display_data"
    }
   ],
   "source": [
    "siteenergyuse_log = np.log(datas[\"SiteEnergyUse(kBtu)\"] + 1)\n",
    "\n",
    "print(f\"Skewness: {siteenergyuse_log.skew()}\")\n",
    "print(f\"Kurtosis: {siteenergyuse_log.kurtosis()}\")\n",
    "\n",
    "siteenergyuse_log.hist(bins=nb_classes * 2)\n"
   ]
  },
  {
   "cell_type": "code",
   "execution_count": 12,
   "metadata": {},
   "outputs": [
    {
     "name": "stdout",
     "output_type": "stream",
     "text": [
      "Skewness: 0   -0.061692\n",
      "dtype: float64\n",
      "Kurtosis: 0    0.883383\n",
      "dtype: float64\n"
     ]
    },
    {
     "data": {
      "text/plain": [
       "array([[<AxesSubplot:title={'center':'0'}>]], dtype=object)"
      ]
     },
     "execution_count": 12,
     "metadata": {},
     "output_type": "execute_result"
    },
    {
     "data": {
      "image/png": "[encoded data removed]",
      "text/plain": [
       "<Figure size 432x288 with 1 Axes>"
      ]
     },
     "metadata": {
      "needs_background": "light"
     },
     "output_type": "display_data"
    }
   ],
   "source": [
    "from sklearn.preprocessing import QuantileTransformer\n",
    "\n",
    "qt = QuantileTransformer(output_distribution= \"normal\").fit(datas[\"SiteEnergyUse(kBtu)\"].to_numpy().reshape(-1, 1))\n",
    "siteenergy_qt = pd.DataFrame(qt.transform(datas[\"SiteEnergyUse(kBtu)\"].to_numpy().reshape(-1, 1)))\n",
    "\n",
    "print(f\"Skewness: {siteenergy_qt.skew()}\")\n",
    "print(f\"Kurtosis: {siteenergy_qt.kurtosis()}\")\n",
    "\n",
    "siteenergy_qt.hist(bins=nb_classes * 2)"
   ]
  },
  {
   "cell_type": "markdown",
   "metadata": {},
   "source": [
    "On peut constater que \"SiteEnergyUse(kBtu)\" mis au log a une distribution quasiment symétrique (skewness= -1.123) et une concentration beaucoup moindre (kurtosis à 13.884 au lieu de 431.276). Néanmoins, l'utilisation de la classe QuantileTransformer de sklearn est beaucoup plus probante car elle fournit une distribution normale (skewness= -0.062, kurtosis= 0.883)\n",
    "\n",
    "On peut voir aussi sur l'histogramme transformé par le QuantileTransformer des valeurs s'apparentant à des outliers en dessous de -4 et au dessus de +4. Cependant, je vais fixer la valeur à 3 écart-types ce qui comprendra 99.7% des valeurs\n",
    "\n",
    "### Conclusion\n",
    "\n",
    "\"SiteEnergyUse(kBtu)\" sera transformé par QuantileTransformer pour la prédiction par souci d'uniformisation des données et les valeurs semblant être des outliers seront retirées\n",
    "\n",
    "## \"TotalGHGEmissions\""
   ]
  },
  {
   "cell_type": "code",
   "execution_count": 13,
   "metadata": {},
   "outputs": [
    {
     "name": "stdout",
     "output_type": "stream",
     "text": [
      "Skewness: 13.970997530041856\n",
      "Kurtosis: 242.3213856508546\n"
     ]
    },
    {
     "data": {
      "text/plain": [
       "<AxesSubplot:>"
      ]
     },
     "execution_count": 13,
     "metadata": {},
     "output_type": "execute_result"
    },
    {
     "data": {
      "image/png": "[encoded data removed]",
      "text/plain": [
       "<Figure size 432x288 with 1 Axes>"
      ]
     },
     "metadata": {
      "needs_background": "light"
     },
     "output_type": "display_data"
    }
   ],
   "source": [
    "print(f\"Skewness: {datas['TotalGHGEmissions'].skew()}\")\n",
    "print(f\"Kurtosis: {datas['TotalGHGEmissions'].kurtosis()}\")\n",
    "\n",
    "datas[\"TotalGHGEmissions\"].hist(bins=nb_classes * 2)\n"
   ]
  },
  {
   "cell_type": "markdown",
   "metadata": {},
   "source": [
    "Le skewness est supérieur à 0 donc la distribution de \"TotalGHGEmissions\" est étalée à droite\n",
    "\n",
    "Le kurtosis est supérieur à 0 donc la distribution de \"TotalGHGEmissions\" est très concentrée\n",
    "\n",
    "Je vais refaire les analyses après une normalisation de \"TotalGHGEmissions\" par le log et comparer les résultats\n"
   ]
  },
  {
   "cell_type": "code",
   "execution_count": 14,
   "metadata": {},
   "outputs": [
    {
     "name": "stdout",
     "output_type": "stream",
     "text": [
      "Skewness: 0.2143540128389917\n",
      "Kurtosis: 0.32740642732529057\n"
     ]
    },
    {
     "data": {
      "text/plain": [
       "<AxesSubplot:>"
      ]
     },
     "execution_count": 14,
     "metadata": {},
     "output_type": "execute_result"
    },
    {
     "data": {
      "image/png": "[encoded data removed]",
      "text/plain": [
       "<Figure size 432x288 with 1 Axes>"
      ]
     },
     "metadata": {
      "needs_background": "light"
     },
     "output_type": "display_data"
    }
   ],
   "source": [
    "totalghg_log = np.log(datas[\"TotalGHGEmissions\"] + 1)\n",
    "\n",
    "print(f\"Skewness: {totalghg_log.skew()}\")\n",
    "print(f\"Kurtosis: {totalghg_log.kurtosis()}\")\n",
    "\n",
    "totalghg_log.hist(bins=nb_classes * 2)\n"
   ]
  },
  {
   "cell_type": "code",
   "execution_count": 15,
   "metadata": {},
   "outputs": [
    {
     "name": "stdout",
     "output_type": "stream",
     "text": [
      "Skewness: 0   -0.060252\n",
      "dtype: float64\n",
      "Kurtosis: 0    0.887448\n",
      "dtype: float64\n"
     ]
    },
    {
     "data": {
      "text/plain": [
       "array([[<AxesSubplot:title={'center':'0'}>]], dtype=object)"
      ]
     },
     "execution_count": 15,
     "metadata": {},
     "output_type": "execute_result"
    },
    {
     "data": {
      "image/png": "[encoded data removed]",
      "text/plain": [
       "<Figure size 432x288 with 1 Axes>"
      ]
     },
     "metadata": {
      "needs_background": "light"
     },
     "output_type": "display_data"
    }
   ],
   "source": [
    "from sklearn.preprocessing import QuantileTransformer\n",
    "\n",
    "qt = QuantileTransformer(output_distribution= \"normal\").fit(datas[\"TotalGHGEmissions\"].to_numpy().reshape(-1, 1))\n",
    "totalghg_qt = pd.DataFrame(qt.transform(datas[\"TotalGHGEmissions\"].to_numpy().reshape(-1, 1)))\n",
    "\n",
    "print(f\"Skewness: {totalghg_qt.skew()}\")\n",
    "print(f\"Kurtosis: {totalghg_qt.kurtosis()}\")\n",
    "\n",
    "totalghg_qt.hist(bins=nb_classes * 2)"
   ]
  },
  {
   "cell_type": "markdown",
   "metadata": {},
   "source": [
    "De même que pour \"SiteEnergyUse(kBtu), on peut constater que \"TotalGHGEmissions\" mis au log a une distribution quasiment symétrique (skewness= 0.214) et que son applatissement est quasiment le même que celui de la distribution normale (kurtosis= 0.327). Néanmoins, l'utilisation de QuantileTransformer rend la distribution parfaitement symétrique (skewness= -0.060) et le kurtosis augmente seulement de 0.6 dans le cas de l'utilisation de la classe sklearn. \n",
    "\n",
    "On peut voir des valeurs s'apparentant à des outliers en dessous de -4 et au dessus de +4. Tout comme ci-dessus, je fixe la limite des outliers à 3 écart-types.\n",
    "\n",
    "### Conclusion\n",
    "\n",
    "\"TotalGHGEmissions\" sera transformée par QuantileTransformer pour une meilleur uniformisation, il faudra aussi retirer les outliers."
   ]
  }
 ],
 "metadata": {
  "interpreter": {
   "hash": "729b65901c6f8275f7fcda51632ecfc389a7b25ee0d12ee84212eeaa9ad700cb"
  },
  "kernelspec": {
   "display_name": "Python 3.9.0 64-bit",
   "name": "python3"
  },
  "language_info": {
   "codemirror_mode": {
    "name": "ipython",
    "version": 3
   },
   "file_extension": ".py",
   "mimetype": "text/x-python",
   "name": "python",
   "nbconvert_exporter": "python",
   "pygments_lexer": "ipython3",
   "version": "3.9.0"
  },
  "orig_nbformat": 4
 },
 "nbformat": 4,
 "nbformat_minor": 2
}
